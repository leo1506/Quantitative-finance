{
 "cells": [
  {
   "cell_type": "code",
   "execution_count": 3,
   "id": "009ca1d5-7814-4140-8f09-b8f0f9221c22",
   "metadata": {},
   "outputs": [],
   "source": [
    "# Libraries\n",
    "import pandas as pd \n",
    "import numpy as np \n",
    "import sympy as sy\n",
    "from sympy import *\n",
    "import warnings\n",
    "\n",
    "warnings.filterwarnings('ignore')\n",
    "init_printing(use_unicode=True)"
   ]
  },
  {
   "cell_type": "markdown",
   "id": "c1aea29c-5665-4c79-9280-65ee4c3682e6",
   "metadata": {},
   "source": [
    "# An Introduction to the Arbitrage Theorem\n",
    "\n",
    "There are arbitrage opportunities if it is possible to build an investment strategy at zero cost with non-negative values in all possible future states being positive at least one of them.\n",
    "\n",
    "We use these concepts to obtain a practical definition of a “fair price” for a financial asset. We say that the price of a security is at a “fair” level, or that the security is correctly priced, if there are no-arbitrage opportunities. Arbitrage-free asset prices will be utilized as benchmarks. Deviations from these indicate opportunities for excess profits.\n",
    "\n",
    "The notion of arbitrage can be used to determine a probability measure under which financial assets behave as martingales, once discounted properly. The tools of martingale arithmetic become available, and one can easily calculate arbitrage-free prices, by evaluating the implied expectations. This approach to pricing derivatives is called the method of equivalent martingale measures.\n",
    "\n",
    "\n",
    "#### Notation:\n",
    "\n",
    "Securities such as options, futures, forwards, and stocks will be represented by a vector of asset prices denoted by:\n",
    " \n",
    "$S_t =\\begin{equation}\\begin{pmatrix}S_1 \\\\ \\vdots \\\\ \\vdots \\\\ S_n \\end{pmatrix}\\end{equation}$\n",
    "\n",
    "The vector $W$ denote all possible states of the world,these states are mutually exclusive, and at least one of them is guaranteed to occur:\n",
    "\n",
    "$W =\\begin{equation}\\begin{pmatrix}w_1 & \\dots & \\dots & w_n \\end{pmatrix}\\end{equation}$\n",
    " \n",
    "The existence of several assets, along with the assumption of many states of the world, means that for each asset $i$ there are several possible states $j$, for the N assets under consideration, if we multiply $S_t$ by $W$ the payoffs  can be grouped in a matrix D:\n",
    "\n",
    " \n",
    "$$ \n",
    "D =\\begin{equation}\n",
    "\\begin{pmatrix}\n",
    "d_{11} & \\dots & d_{1j}\\\\\n",
    "\\vdots & \\ddots & \\vdots\\\\\n",
    "d_{i1} & \\dots & d{ij} \n",
    "\\end{pmatrix}\n",
    "\\end{equation}$$\n"
   ]
  },
  {
   "cell_type": "markdown",
   "id": "209b68a1-f681-4577-9e52-0ce33f987a0a",
   "metadata": {},
   "source": [
    "## Theorem\n",
    "\n",
    "We consider a case where the market participant is interested only in three assets:\n",
    "\n",
    "- A risk-free asset such as a Treasury bill $B_t$, whose gross return until next period is $(1 + r\\Delta)$. in order to simplify the notation, the amount of risk-free borrowing and lending is selected by the investor. Hence, we can let $B_t = 1 $\n",
    "\n",
    "- An underlying asset, $S_t$ for example, a stock, that during the small interval  can assume one of only two possible values. \n",
    "\n",
    "- A derivative asset, a call option with a premium $C_O$ and a strike K that expires in the \"next\" period. Given that the underlying asset has two possible values, the call option will assume two possible values as well.\n",
    "\n",
    "This setup is fairly simple. There are three assets, and two states of the world, the time that elapses was called $\\Delta$. In this example we let $\\Delta = 1$\n",
    "\n",
    "Given the $S_t$ and $D$ defined, and given that the two states have positive probabilities of occurrence, if $\\psi_1$ and $\\psi_2$ positive constants  can be found such that asset prices satisfy\n",
    "\n",
    "\n",
    "$\\begin{equation}\\begin{bmatrix} B_t \\\\ S_t\\\\ C_T \\end{bmatrix}\\end{equation}$ = $\\begin{equation}\\begin{bmatrix}(\\Delta r + 1)& (\\Delta r + 1)\\\\ S_1(\\Delta + t)   & S_2(\\Delta + t)  \\\\ C_1(\\Delta + t) & C_2(\\Delta + t) \n",
    "\\end{bmatrix}\n",
    "\\end{equation}$  $\\begin{equation}\\begin{bmatrix} \\psi_1 \\\\ \\psi_2 \\end{bmatrix}\\end{equation}$ \n",
    "\n",
    "then there are no-arbitrage possibilities; and if there are no-arbitrage opportunities, then positive constants $\\psi_1$, $\\psi_2$ satisfying the identity can be found.\n",
    "\n",
    "This relationship is called a representation. It is not a relation that can be observed in reality, $\\psi_1$ and $\\psi_2$  are “possible” future values of the underlying asset and they are called state prices. Only one of them, the one that belongs to the state that is realized will be observed. \n",
    "\n",
    "\n",
    "Multiplying $D$ by the vector of $\\psi_i$ , we get\n",
    "\n",
    "\n"
   ]
  },
  {
   "cell_type": "code",
   "execution_count": 4,
   "id": "618bda0a-3d8a-49d5-8404-b720624184bb",
   "metadata": {},
   "outputs": [
    {
     "data": {
      "text/latex": [
       "$\\displaystyle \\left[\\begin{matrix}\\psi_{1} \\left(r + 1\\right) + \\psi_{2} \\left(r + 1\\right)\\\\S_{1 t+1 } \\psi_{1} + S_{2 t+1} \\psi_{2}\\\\C_{1 t+1} \\psi_{1} + C_{2 t+1} \\psi_{2}\\end{matrix}\\right]$"
      ],
      "text/plain": [
       "⎡ψ₁⋅(r + 1) + ψ₂⋅(r + 1)⎤\n",
       "⎢                       ⎥\n",
       "⎢S_1_t+1 ⋅ψ₁ + S₂ ₜ₊₁⋅ψ₂⎥\n",
       "⎢                       ⎥\n",
       "⎣ C₁ ₜ₊₁⋅ψ₁ + C₂ ₜ₊₁⋅ψ₂ ⎦"
      ]
     },
     "execution_count": 4,
     "metadata": {},
     "output_type": "execute_result"
    }
   ],
   "source": [
    "# Free risk rate\n",
    "r = sy.Symbol('r') \n",
    "# Period\n",
    "t = sy.Symbol('t')\n",
    "# Undderlying price in t + 1 given the state 1\n",
    "S_1 = sy.Symbol('S1_t+1 ') \n",
    "# Undderlying price in t + 1 given the state 2\n",
    "S_2 = sy.Symbol('S2_t+1') \n",
    "# Call price in t + 1 given the state 1 \n",
    "C_1 = sy.Symbol('C1_t+1') \n",
    "# Call price in t + 1 given the state 2\n",
    "C_2 = sy.Symbol('C2_t+1') # Call price in t + 1 given the state 2\n",
    "# The amount of risk-free borrowing and lending is selected by the investor, in this case we chosee\n",
    "bono = 1\n",
    "# The time that elapses Δ. In this particular example we let\n",
    "Delta = 1\n",
    "# Pay_of Matrix with  N = 3 assets and K = 2 states of the word \n",
    "D_t = Matrix([[(Delta*r+1)*bono, (Delta*r+1)*bono], \n",
    "            [S_1,S_2], \n",
    "            [C_1 ,C_2 ]]) \n",
    "# State of prices\n",
    "ep = Matrix([['psi_1'],['psi_2']])\n",
    "D_t*ep"
   ]
  },
  {
   "cell_type": "markdown",
   "id": "0707ef89-5488-4e80-8188-be8e0f3aed02",
   "metadata": {},
   "source": [
    "We set the first equation equal to its value in $t_0$\n",
    "\n",
    "$$1 = (1 + r)\\psi_1 + (1 + r)\\psi_2$$\n",
    "\n",
    "Now we can define two probabilities associated with the two states under consideration:\n",
    "\n",
    "$$ Q_1 = (1 + r)\\psi_1$$\n",
    "$$ Q_2 = (1 + r)\\psi_2$$\n",
    "\n",
    "$Q_1$ and $Q_2$ do not provide direct information about the true probabilities associated with the two states of the world, they are called risk-adjusted probabilities and only exist if there are no arbitrage opportunities.\n",
    "\n",
    "Now multiply the right-hand side of the last two equations by $\\frac{1 + r}{1 + r}$ \n",
    "\n",
    "\n",
    "$$S_{(t)} = \\frac{1}{1 + r} [(1 + r)𝑆_{1𝑡+1}𝜓_1 + (1 + r)𝑆_{2𝑡+1}𝜓_{2}]$$\n",
    "\n",
    "\n",
    "$$C_{(t)} = \\frac{1}{1 + r} [(1 + r)𝐶_{1𝑡+1}𝜓_1 + (1 + r)𝐶_{2𝑡+1}𝜓_2 ]$$\n",
    "\n",
    "Which implies\n",
    "\n",
    "$$S_{(t)} = \\frac{1}{1 + r} [Q_1 𝑆_{1𝑡+1} + Q_2 𝑆_{2𝑡+1}]$$\n",
    "\n",
    "\n",
    "$$C_{(t)} = \\frac{1}{1 + r} [Q_1 𝐶_{1𝑡+1} + Q_2 𝐶_{2𝑡+1}𝜓_2 ]$$\n",
    "\n",
    "\n",
    "The expression multiplies the term in the brackets by a riskless one-period discount factor, the terms in the brackets are expectations calculated using the risk-adjusted probabilities, the current prices of all assets under consideration become equal to their discounted expected payoffs.\n",
    "\n",
    "\n"
   ]
  },
  {
   "cell_type": "markdown",
   "id": "30b242ea-2081-4089-b5a5-1254141e3930",
   "metadata": {},
   "source": [
    "## Exercises\n",
    "\n",
    "- 1 You are given the price of a nondividend-paying stock $S_t$ and a European call option $C_t$ in a world where there are only two possible states:\n",
    "\n"
   ]
  },
  {
   "cell_type": "markdown",
   "id": "211bb205-d8a6-4e74-9dee-2959b308ae62",
   "metadata": {},
   "source": [
    "$f(x)= \\left\\{ \\begin{array}{lcc}\n",
    "             320 & if & u & occurs  \\\\\n",
    "             \\\\ 260 & if & d & occurs  \n",
    "             \\end{array}\\right.$"
   ]
  },
  {
   "cell_type": "markdown",
   "id": "50887610-5e84-446f-bd6b-d12716d04706",
   "metadata": {},
   "source": [
    "The true probabilities of the two states are given by $[P_u = 0.5 ; P_d = 0.5]$\n",
    "\n",
    "$S_t = 280$\n",
    "\n",
    "$r = 0.05$\n",
    "\n",
    "The time is discrete with:\n",
    "\n",
    "$\\Delta = 3$ months\n",
    "\n",
    "$K = 280$\n",
    "\n",
    "$T = t + \\Delta$\n",
    "\n",
    "(a)  Find the risk-neutral martingale measure  using the normalization by risk-free borrowing and lending:\n",
    "\n",
    "\n",
    "$$280 = \\frac{1}{(\\frac{0.05}{12})3} [Q_1 320  +  Q_2  260 ]$$"
   ]
  },
  {
   "cell_type": "code",
   "execution_count": 5,
   "id": "c7661714-d68e-4988-aba9-4e7ca8355489",
   "metadata": {},
   "outputs": [
    {
     "data": {
      "image/png": "[encoded data removed]",
      "text/latex": [
       "$\\displaystyle \\left( \\left( \\left[ Q_{1}\\right], \\  \\left\\{\\left( 0.391666666666667,\\right)\\right\\}\\right), \\  \\left( \\left[ Q_{2}\\right], \\  \\left\\{\\left( 0.608333333333334,\\right)\\right\\}\\right)\\right)$"
      ],
      "text/plain": [
       "(([Q₁], {(0.391666666666667,)}), ([Q₂], {(0.608333333333334,)}))"
      ]
     },
     "execution_count": 5,
     "metadata": {},
     "output_type": "execute_result"
    }
   ],
   "source": [
    "# we use sympy to solve the equation \n",
    "\n",
    "# Risk free rate \n",
    "r = 0.05/12\n",
    "\n",
    "# Define Q_1 and Q_2\n",
    "q_1 = sy.Symbol('Q_1')\n",
    "q_2 = sy.Symbol('Q_2')\n",
    "\n",
    "# Solve the equation (Q_1 + Q_2 = 1; Q_1 = 1 - Q_2; Q_2 = 1 - Q_1)\n",
    "Q_1 = sy.solve(1/(1 + (r) * 3) * (q_1 * 320  + (1 - q_1) *  260 ) - 280 ,q_1, set = True)\n",
    "Q_2 = sy.solve(1/(1 + (r) * 3) * (320 * (1 - q_2) + q_2 * 260 ) - 280 ,q_2, set = True)\n",
    "Q_1,Q_2"
   ]
  },
  {
   "cell_type": "markdown",
   "id": "468e6ad2-b891-448a-aa3f-0e5fd46b7b28",
   "metadata": {},
   "source": [
    "(b)  Calculate the value of the option under the risk-neutral martingale measure using $Q_1$ and $Q_2$\n",
    "\n",
    "\n",
    "$$C_{(t)} = \\frac{1}{1 + r} [Q_1 𝐶_{1𝑡+1} + Q_2 𝐶_{2𝑡+1}𝜓_2 ]$$\n"
   ]
  },
  {
   "cell_type": "code",
   "execution_count": 6,
   "id": "67e19608-c059-41d9-9441-e6034b04e67f",
   "metadata": {},
   "outputs": [
    {
     "name": "stdout",
     "output_type": "stream",
     "text": [
      "The option price is: 15.473251028806601\n"
     ]
    }
   ],
   "source": [
    "# extract values from Q_1 and Q_2\n",
    "q_1 = float(list(Q_1[1])[0][0])\n",
    "q_2 = float(list(Q_2[1])[0][0])\n",
    "\n",
    "# Calculate option price \n",
    "C_t = (1/(1 + (r) * 3) * (q_1 * ( 320 - 280 ) + q_2 *  ( 0 ))) \n",
    "print('The option price is:',C_t)"
   ]
  },
  {
   "cell_type": "markdown",
   "id": "839f7cb9-5a40-450e-8877-e9418192b977",
   "metadata": {},
   "source": [
    "(c)  Now use the normalization by $S_t$ and find a new measure  under which the normalized variable is a martingale."
   ]
  },
  {
   "cell_type": "markdown",
   "id": "263629a0-e9a7-4a30-92c7-e192b799fbfa",
   "metadata": {},
   "source": [
    "$1 =  (\\Delta r + 1)\\psi_1 + (\\Delta r + 1)\\psi_2$\n",
    "\n",
    "$1 =  \\frac{S_{1(\\Delta + t)}}{S_t}\\psi_1 + \\frac{S_{2(\\Delta + t)}}{S_t}\\psi_2$\n",
    "\n",
    "\n",
    "\n",
    "$1 =  (1.0125)\\psi_1 + (1.025)\\psi_2$\n",
    "\n",
    "\n",
    "$1 =  \\frac{320}{280}\\psi_1 + \\frac{260}{280}\\psi_2$\n"
   ]
  },
  {
   "cell_type": "code",
   "execution_count": 7,
   "id": "2b2fcfc7-96b6-4397-a8d5-bd584a0c1e4f",
   "metadata": {},
   "outputs": [
    {
     "data": {
      "image/png": "[encoded data removed]",
      "text/latex": [
       "$\\displaystyle \\left( \\left( \\left[ \\psi_{1}\\right], \\  \\left\\{\\left( 0.386831275720165,\\right)\\right\\}\\right), \\  \\left( \\left[ \\psi_{2}\\right], \\  \\left\\{\\left( 0.60082304526749,\\right)\\right\\}\\right)\\right)$"
      ],
      "text/plain": [
       "(([ψ₁], {(0.386831275720165,)}), ([ψ₂], {(0.60082304526749,)}))"
      ]
     },
     "execution_count": 7,
     "metadata": {},
     "output_type": "execute_result"
    }
   ],
   "source": [
    "psi_1 = sy.Symbol('psi_1')\n",
    "psi_2 = sy.Symbol('psi_2')\n",
    "state_p1 = sy.solve((320/280 * psi_1 + 260/280 * psi_2) - 1,psi_1)[0]\n",
    "state_p2 = sy.solve(((1.0125 *  state_p1) + (1.0125 * psi_2)) - 1,psi_2 , set = True )\n",
    "state_p1 = sy.solve((320/280 * psi_1 + 260/280 * float(list(state_p2[1])[0][0])) - 1,psi_1,set = True)\n",
    "state_p1,state_p2"
   ]
  },
  {
   "cell_type": "code",
   "execution_count": 8,
   "id": "f9a1b91f-bc57-498c-9de0-7f3bb2cddfe3",
   "metadata": {},
   "outputs": [
    {
     "name": "stdout",
     "output_type": "stream",
     "text": [
      "0.39166666666666666 0.6083333333333334\n"
     ]
    }
   ],
   "source": [
    "Q_1 = float(list(state_p1[1])[0][0]) * (1 + (r * 3))\n",
    "Q_2 = float(list(state_p2[1])[0][0]) * (1 + (r * 3))\n",
    "print(Q_1,Q_2)\n"
   ]
  },
  {
   "cell_type": "markdown",
   "id": "69f4555a-1b7c-4972-ba69-f2d2dc18c64f",
   "metadata": {},
   "source": [
    "(d)  Calculate the option's fair market value using $\\psi_1$ "
   ]
  },
  {
   "cell_type": "code",
   "execution_count": 7,
   "id": "d9853c89-1f2c-494f-be9b-08264f8ec8a6",
   "metadata": {},
   "outputs": [
    {
     "data": {
      "image/png": "[encoded data removed]",
      "text/latex": [
       "$\\displaystyle 15.4732510288066$"
      ],
      "text/plain": [
       "15.473251028806585"
      ]
     },
     "execution_count": 7,
     "metadata": {},
     "output_type": "execute_result"
    }
   ],
   "source": [
    "40 * float(list(state_p1[1])[0][0])"
   ]
  },
  {
   "cell_type": "markdown",
   "id": "2bf85eed-29a5-40ce-a5f3-f92fcf59a85b",
   "metadata": {},
   "source": [
    "2.  In an economy there are two states of the world and four assets. You are given the following prices for three of these securities in different states of the world:\n",
    "\n",
    "$\\begin{equation}\\begin{bmatrix} A \\\\ B \\\\ C \\end{bmatrix}\\end{equation}$ = $\\begin{equation}\\begin{bmatrix} 120 + 4 & 70 + 1\\\\ 80 + 3   & 60 + 1 \\\\ 90 + 2 & 150 + 10 \n",
    "\\end{bmatrix}\n",
    "\\end{equation}$ \n",
    "\n",
    "\n",
    "“Current”  prices for  are 100, 70, and 180, respectively.\n",
    "\n",
    "(a)  Are the “current”  prices of the three securities arbitrage-free?\n",
    "\n",
    "We first asume that $r = 0$ for simplicity:\n",
    "\n",
    "$\\psi_i = Q_i$"
   ]
  },
  {
   "cell_type": "code",
   "execution_count": 9,
   "id": "69759519-1bce-40b0-8f85-7e933f26de29",
   "metadata": {},
   "outputs": [
    {
     "data": {
      "image/png": "[encoded data removed]",
      "text/latex": [
       "$\\displaystyle \\left( \\left( \\left[ Q_{1}\\right], \\  \\left\\{\\left( \\frac{29}{53},\\right)\\right\\}\\right), \\  \\left( \\left[ Q_{2}\\right], \\  \\left\\{\\left( \\frac{24}{53},\\right)\\right\\}\\right)\\right)$"
      ],
      "text/plain": [
       "⎛⎛      ⎧⎛29 ⎞⎫⎞  ⎛      ⎧⎛24 ⎞⎫⎞⎞\n",
       "⎜⎜[Q₁], ⎨⎜──,⎟⎬⎟, ⎜[Q₂], ⎨⎜──,⎟⎬⎟⎟\n",
       "⎝⎝      ⎩⎝53 ⎠⎭⎠  ⎝      ⎩⎝53 ⎠⎭⎠⎠"
      ]
     },
     "execution_count": 9,
     "metadata": {},
     "output_type": "execute_result"
    }
   ],
   "source": [
    "q_1 = sy.Symbol('Q_1')\n",
    "q_2 = sy.Symbol('Q_2')\n",
    "SA_0 = 100\n",
    "SA_1 = 124\n",
    "SA_2 = 71\n",
    "Q_1 = sy.solve(((SA_1 *  ( q_1)) + (SA_2 * (1 - q_1))) - SA_0 ,q_1, set = True )\n",
    "Q_2 = sy.solve(((SA_1 *  ( 1 - q_2)) + (SA_2 * (q_2))) - SA_0 ,q_2, set = True)\n",
    "\n",
    "Q_1, Q_2"
   ]
  },
  {
   "cell_type": "code",
   "execution_count": 10,
   "id": "565b4d92-1f79-4d25-8113-6109e40f6b08",
   "metadata": {},
   "outputs": [
    {
     "data": {
      "image/png": "[encoded data removed]",
      "text/latex": [
       "$\\displaystyle \\left( \\left( \\left[ Q_{1}\\right], \\  \\left\\{\\left( \\frac{9}{22},\\right)\\right\\}\\right), \\  \\left( \\left[ Q_{2}\\right], \\  \\left\\{\\left( \\frac{13}{22},\\right)\\right\\}\\right)\\right)$"
      ],
      "text/plain": [
       "⎛                   ⎛      ⎧⎛13 ⎞⎫⎞⎞\n",
       "⎜([Q₁], {(9/22,)}), ⎜[Q₂], ⎨⎜──,⎟⎬⎟⎟\n",
       "⎝                   ⎝      ⎩⎝22 ⎠⎭⎠⎠"
      ]
     },
     "execution_count": 10,
     "metadata": {},
     "output_type": "execute_result"
    }
   ],
   "source": [
    "q_1 = sy.Symbol('Q_1')\n",
    "q_2 = sy.Symbol('Q_2')\n",
    "SB_0 = 70\n",
    "SB_1 = 83\n",
    "SB_2 = 61\n",
    "Q_1 = sy.solve(((SB_1 *  ( q_1)) + (SB_2 * (1 - q_1))) - SB_0 ,q_1, set = True )\n",
    "Q_2 = sy.solve(((SB_1 *  ( 1 - q_2)) + (SB_2 * (q_2))) - SB_0 ,q_2, set = True)\n",
    "\n",
    "Q_1, Q_2"
   ]
  },
  {
   "cell_type": "code",
   "execution_count": 11,
   "id": "1a3080b8-f732-422f-b2a6-2cc92cfef539",
   "metadata": {},
   "outputs": [
    {
     "data": {
      "image/png": "[encoded data removed]",
      "text/latex": [
       "$\\displaystyle \\left( \\left( \\left[ Q_{1}\\right], \\  \\left\\{\\left( - \\frac{5}{17},\\right)\\right\\}\\right), \\  \\left( \\left[ Q_{2}\\right], \\  \\left\\{\\left( \\frac{22}{17},\\right)\\right\\}\\right)\\right)$"
      ],
      "text/plain": [
       "⎛                    ⎛      ⎧⎛22 ⎞⎫⎞⎞\n",
       "⎜([Q₁], {(-5/17,)}), ⎜[Q₂], ⎨⎜──,⎟⎬⎟⎟\n",
       "⎝                    ⎝      ⎩⎝17 ⎠⎭⎠⎠"
      ]
     },
     "execution_count": 11,
     "metadata": {},
     "output_type": "execute_result"
    }
   ],
   "source": [
    "q_1 = sy.Symbol('Q_1')\n",
    "q_2 = sy.Symbol('Q_2')\n",
    "SC_0 = 180\n",
    "SC_1 = 92\n",
    "SC_2 = 160\n",
    "Q_1 = sy.solve(((SC_1 *  ( q_1)) + (SC_2 * (1 - q_1))) - SC_0 ,q_1, set = True )\n",
    "Q_2 = sy.solve(((SC_1 *  ( 1 - q_2)) + (SC_2 * (q_2))) - SC_0 ,q_2, set = True)\n",
    "\n",
    "Q_1, Q_2"
   ]
  },
  {
   "cell_type": "markdown",
   "id": "39ad58aa-60aa-473c-bbd6-fe0e14ce4c03",
   "metadata": {},
   "source": [
    "The prices of securities A and B are free of arbitration, but not that of security C. If we go short with C we can ensure positive returns in all possible states"
   ]
  },
  {
   "cell_type": "markdown",
   "id": "00cc92a8-f863-4b6e-8cfe-4550ca751b9a",
   "metadata": {},
   "source": [
    "(c)  Determine a set of arbitrage-free prices for securities , and C.\n",
    "\n",
    "we only must let \n",
    "\n",
    "$\\psi_1 = 0.5$ y $ \\psi_2 = 0.5$\n",
    "\n"
   ]
  },
  {
   "cell_type": "code",
   "execution_count": 12,
   "id": "4e2b3c12-c6cb-4f7f-bb62-72ba18c8ab8b",
   "metadata": {},
   "outputs": [
    {
     "name": "stdout",
     "output_type": "stream",
     "text": [
      "Set of arbitrage free prices: \n",
      " Price A: 97.5 Price B: 72.0 Price C: 126.0\n"
     ]
    }
   ],
   "source": [
    "A = SA_1 * 0.5 + SA_2 * 0.5\n",
    "B = SB_1 * 0.5 + SB_2 * 0.5\n",
    "C = SC_1 * 0.5 + SC_2 * 0.5\n",
    "print(\"Set of arbitrage free prices: \\n\",\"Price A:\",A,\"Price B:\",B,\"Price C:\",C)"
   ]
  },
  {
   "cell_type": "markdown",
   "id": "098ca9d7-8b6c-4a05-987e-21fe2be7adcf",
   "metadata": {},
   "source": [
    "+ d  Suppose we introduce a fourth security, which is a one-period futures contract written on B. What is its price?\n",
    "\n",
    "$F_0 = Q_1(S_{B1} - K) + Q_2(S_{B2} - K )$\n",
    "\n",
    "\n",
    "+ e  Suppose a put option with strike price k = 125 is written on C. What is its arbitrage-free price?\n",
    "\n",
    "$C_0 = Q_1 * (125 - 92) + Q_2 (0)$\n"
   ]
  },
  {
   "cell_type": "code",
   "execution_count": 13,
   "id": "235567df-7e24-4c85-b8be-8c86a4b2c7c0",
   "metadata": {},
   "outputs": [
    {
     "data": {
      "image/png": "[encoded data removed]",
      "text/latex": [
       "$\\displaystyle \\left( \\left[ C_{0}\\right], \\  \\left\\{\\left( 33 Q_{1},\\right)\\right\\}\\right)$"
      ],
      "text/plain": [
       "([C₀], {(33⋅Q₁,)})"
      ]
     },
     "execution_count": 13,
     "metadata": {},
     "output_type": "execute_result"
    }
   ],
   "source": [
    "k = 125\n",
    "q_1 = sy.Symbol('Q_1')\n",
    "C_0 = sy.Symbol('C_0')\n",
    "sy.solve(((k - SC_1) * ( q_1)) - C_0 ,set = True)\n"
   ]
  },
  {
   "cell_type": "markdown",
   "id": "8402540c-1276-4627-ae04-74567d56e3a9",
   "metadata": {},
   "source": [
    "Where \n",
    "\n",
    "$0 < Q_1 < 1$ "
   ]
  },
  {
   "cell_type": "markdown",
   "id": "0b71c6da-724f-489a-906d-4173ed6b1c88",
   "metadata": {},
   "source": [
    "3.  Consider a stock  and a plain vanilla, at-the-money put option written on this stock. The option expires at time $t + \\Delta$, where $\\Delta$ denotes a small interval. At time $t$, there are only two possible ways the $S_t$ can move. It can either go up to  $S_{t+\\Delta}^{up}$, or go down to $S_{t+\\Delta}^{up}$ . Also available to traders is risk-free borrowing and lending at annual rate r.\n",
    "\n",
    "\n",
    "\n"
   ]
  },
  {
   "cell_type": "markdown",
   "id": "0de34db8-6520-4eb8-b70e-740320dd90c2",
   "metadata": {},
   "source": [
    "(a)  Using the arbitrage theorem, write down a three-equation system with two states that gives the arbitrage-free values of  and .\n",
    "\n",
    "\n",
    "$\\begin{equation}\\begin{bmatrix} 1 \\\\ S_t\\\\ C_T \\end{bmatrix}\\end{equation}$ = $\\begin{equation}\\begin{bmatrix}(\\Delta r + 1)& (\\Delta r + 1)\\\\ S_1(\\Delta + t)   & S_2(\\Delta + t)  \\\\ C_1(\\Delta + t) & C_2(\\Delta + t) \n",
    "\\end{bmatrix}\n",
    "\\end{equation}$  $\\begin{equation}\\begin{bmatrix} \\psi_1 \\\\ \\psi_2 \\end{bmatrix}\\end{equation}$ \n",
    "\n",
    "\n",
    "(b)  Now plot a two-step binomial tree for $S_t$. Suppose at every node of the tree the markets are arbitrage-free. How many three-equation systems similar to the preceding case could then be written for the entire tree?\n",
    "\n"
   ]
  },
  {
   "attachments": {
    "10a478b9-fdcd-489e-96bf-88c70c805e6d.png": {
     "image/png": "[encoded data removed]"
    }
   },
   "cell_type": "markdown",
   "id": "f39ae680-294f-4b9f-b504-8a3902857ccf",
   "metadata": {},
   "source": [
    "![binomial_tree.png](attachment:10a478b9-fdcd-489e-96bf-88c70c805e6d.png)"
   ]
  },
  {
   "cell_type": "markdown",
   "id": "f51242e5-4f03-4220-becc-bee7a1927e6c",
   "metadata": {},
   "source": [
    "three systems of equations can be written:\n",
    "\n",
    "$\\begin{equation}\\begin{bmatrix} 1 \\\\ S_t\\\\ C_t \\end{bmatrix}\\end{equation}$ = $\\begin{equation}\\begin{bmatrix}(\\Delta r + 1)& (\\Delta r + 1)\\\\ S_{t+1}^{u}   & S_{t+1}^{d}  \\\\ C_{t+1}^{u} & C_{t+1}^{d} \n",
    "\\end{bmatrix}\n",
    "\\end{equation}$  $\\begin{equation}\\begin{bmatrix} \\psi_1 \\\\ \\psi_2 \\end{bmatrix}\\end{equation}$ \n",
    "\n",
    "$\\begin{equation}\\begin{bmatrix} 1 \\\\ S_{t+1}\\\\ C_{t+1} \\end{bmatrix}\\end{equation}$ = $\\begin{equation}\\begin{bmatrix}(\\Delta r + 1)& (\\Delta r + 1)\\\\ S_{t+2}^{uu}   & S_{t+2}^{ud}  \\\\ C_{t+2}^{uu} & C_{t+2}^{ud} \n",
    "\\end{bmatrix}\n",
    "\\end{equation}$  $\\begin{equation}\\begin{bmatrix} \\psi_1 \\\\ \\psi_2 \\end{bmatrix}\\end{equation}$ \n",
    "\n",
    "$\\begin{equation}\\begin{bmatrix} 1 \\\\ S_{t+1}\\\\ C_{t+1} \\end{bmatrix}\\end{equation}$ = $\\begin{equation}\\begin{bmatrix}(\\Delta r + 1)& (\\Delta r + 1)\\\\ S_{t+2}^{du}   & S_{t+2}^{dd}  \\\\ C_{t+2}^{du} & C_{t+2}^{dd} \n",
    "\\end{bmatrix}\n",
    "\\end{equation}$  $\\begin{equation}\\begin{bmatrix} \\psi_1 \\\\ \\psi_2 \\end{bmatrix}\\end{equation}$ \n"
   ]
  },
  {
   "cell_type": "markdown",
   "id": "8496597f-fe3e-48d1-85f5-962e19886106",
   "metadata": {},
   "source": [
    "4. A four-step binomial tree for the price of a stock $S_t$ is to be calculated using the up- and downticks given as follows:\n",
    "\n",
    "$u = 1.15$\n",
    "\n",
    "$d= \\frac{1}{u}$\n",
    "\n",
    "These up and down movements apply to one-month periods denoted by $\\Delta = 1$. \n",
    "\n",
    "We have the following dynamics for $S_t$,\n",
    "\n",
    "$S_{t + \\Delta}^{u} = S_{tu}$  \n",
    "\n",
    "$S_{t + \\Delta}^{d} = S_{td}$\n",
    "\n",
    "where up and down describe the two states of the world at each node. Assume that time is measured in months and that $t_4$ is the expiration date for a European call option $C_t$ written on $S_t$. The stock does not pay any dividends and its price is expected (by “market participants”) to grow at an annual rate of $15$%. The risk-free interest rate r is known to be constant at $5$%.  \n",
    "\n",
    "(a)  According to the data given above, what is the (approximate) annual volatility of $S_t$ if this process is known to have a log-normal distribution?\n",
    "\n",
    "\n",
    "$ u = e^{\\sigma  \\sqrt{\\Delta}} $\n",
    "\n",
    "$ \\sigma = \\frac{log(u)}{\\sqrt{\\Delta}}$ \n"
   ]
  },
  {
   "cell_type": "code",
   "execution_count": 16,
   "id": "9f6411a6-c82c-4218-9e42-82c99fc79ccd",
   "metadata": {},
   "outputs": [
    {
     "name": "stdout",
     "output_type": "stream",
     "text": [
      "The volatility annual is: 0.4841495703165768\n"
     ]
    }
   ],
   "source": [
    "u = 1.15\n",
    "Delta = 1\n",
    "# Annual interval\n",
    "interval = 12\n",
    "sigma = np.log(u)/np.sqrt(Delta/interval)\n",
    "print('The volatility annual is:',sigma)"
   ]
  },
  {
   "cell_type": "markdown",
   "id": "1675e6e0-db20-4cfa-abde-8f0824958542",
   "metadata": {},
   "source": [
    "(b)  Calculate the four-step binomial trees for $S_t$   and $C_t$ \n"
   ]
  },
  {
   "cell_type": "code",
   "execution_count": 17,
   "id": "4a28c411-46cb-4801-b7f8-7844c2b84931",
   "metadata": {},
   "outputs": [],
   "source": [
    "# we create a binomial tree function to simulate paths of the underlying\n",
    "\n",
    "def binomial_tree(S0,u,d,T):\n",
    "    \"\"\"Create a Binomial tree thats simulate\n",
    "    paths of the underlying price.\n",
    "    \n",
    "    Parameters\n",
    "    ----------\n",
    "        S0 float:\n",
    "            Price of the underlying in t=0.\n",
    "        \n",
    "        u float:\n",
    "            up movements.\n",
    "       \n",
    "        d float:\n",
    "            down movements.\n",
    "            \n",
    "        T int:\n",
    "            Time to maturity\n",
    "    \n",
    "    Returns\n",
    "    -------\n",
    "        Data Frame:\n",
    "            With all posible paths.\n",
    "    \"\"\"\n",
    "    z = 1\n",
    "    S = np.zeros((T + 1 , T + 1 ))\n",
    "    S[0,0] = S0\n",
    "    for t in range(1, T + 1 ):\n",
    "        for i in range(z):\n",
    "            S[i,t] = S[i, t-1] * u\n",
    "            S[i + 1, t] = S[i, t-1] * d\n",
    "        z += 1\n",
    "    S = pd.DataFrame(S )\n",
    "\n",
    "    return S"
   ]
  },
  {
   "cell_type": "markdown",
   "id": "5e970185-b235-4a4a-b2a5-3a544d039fcc",
   "metadata": {},
   "source": [
    " We assume that $S_0 = 50$"
   ]
  },
  {
   "cell_type": "code",
   "execution_count": 18,
   "id": "907f931b-f7ef-4b64-b1d2-51cd7951574f",
   "metadata": {},
   "outputs": [
    {
     "data": {
      "text/html": [
       "<div>\n",
       "<style scoped>\n",
       "    .dataframe tbody tr th:only-of-type {\n",
       "        vertical-align: middle;\n",
       "    }\n",
       "\n",
       "    .dataframe tbody tr th {\n",
       "        vertical-align: top;\n",
       "    }\n",
       "\n",
       "    .dataframe thead th {\n",
       "        text-align: right;\n",
       "    }\n",
       "</style>\n",
       "<table border=\"1\" class=\"dataframe\">\n",
       "  <thead>\n",
       "    <tr style=\"text-align: right;\">\n",
       "      <th></th>\n",
       "      <th>0</th>\n",
       "      <th>1</th>\n",
       "      <th>2</th>\n",
       "      <th>3</th>\n",
       "      <th>4</th>\n",
       "    </tr>\n",
       "  </thead>\n",
       "  <tbody>\n",
       "    <tr>\n",
       "      <th>0</th>\n",
       "      <td>50.0</td>\n",
       "      <td>57.500000</td>\n",
       "      <td>66.125000</td>\n",
       "      <td>76.043750</td>\n",
       "      <td>87.450312</td>\n",
       "    </tr>\n",
       "    <tr>\n",
       "      <th>1</th>\n",
       "      <td>0.0</td>\n",
       "      <td>43.478261</td>\n",
       "      <td>50.000000</td>\n",
       "      <td>57.500000</td>\n",
       "      <td>66.125000</td>\n",
       "    </tr>\n",
       "    <tr>\n",
       "      <th>2</th>\n",
       "      <td>0.0</td>\n",
       "      <td>0.000000</td>\n",
       "      <td>37.807183</td>\n",
       "      <td>43.478261</td>\n",
       "      <td>50.000000</td>\n",
       "    </tr>\n",
       "    <tr>\n",
       "      <th>3</th>\n",
       "      <td>0.0</td>\n",
       "      <td>0.000000</td>\n",
       "      <td>0.000000</td>\n",
       "      <td>32.875812</td>\n",
       "      <td>37.807183</td>\n",
       "    </tr>\n",
       "    <tr>\n",
       "      <th>4</th>\n",
       "      <td>0.0</td>\n",
       "      <td>0.000000</td>\n",
       "      <td>0.000000</td>\n",
       "      <td>0.000000</td>\n",
       "      <td>28.587662</td>\n",
       "    </tr>\n",
       "  </tbody>\n",
       "</table>\n",
       "</div>"
      ],
      "text/plain": [
       "      0          1          2          3          4\n",
       "0  50.0  57.500000  66.125000  76.043750  87.450312\n",
       "1   0.0  43.478261  50.000000  57.500000  66.125000\n",
       "2   0.0   0.000000  37.807183  43.478261  50.000000\n",
       "3   0.0   0.000000   0.000000  32.875812  37.807183\n",
       "4   0.0   0.000000   0.000000   0.000000  28.587662"
      ]
     },
     "execution_count": 18,
     "metadata": {},
     "output_type": "execute_result"
    }
   ],
   "source": [
    "S0 = 50\n",
    "d = 1/u\n",
    "T = 4\n",
    "S =  binomial_tree(S0,u,d,T)\n",
    "S"
   ]
  },
  {
   "cell_type": "markdown",
   "id": "38f16e80-69a3-418f-b828-f2629b21d3e5",
   "metadata": {},
   "source": [
    "\n",
    "$\\begin{equation}\\begin{bmatrix} 1 \\\\ 50 \\end{bmatrix}\\end{equation}$ = $\\begin{equation}\\begin{bmatrix}1.004& 1.004\\\\ 57.5  & 43.47 \n",
    "\\end{bmatrix}\n",
    "\\end{equation}$  $\\begin{equation}\\begin{bmatrix} \\psi_1 \\\\ \\psi_2 \\end{bmatrix}\\end{equation}$ \n",
    "\n",
    "\n",
    "$50 = \\frac{1}{1.004}[57.5 Q_1 + 43.47 Q_2]$\n"
   ]
  },
  {
   "cell_type": "code",
   "execution_count": 19,
   "id": "2f72444b-9e75-4862-9606-9620036c8b07",
   "metadata": {},
   "outputs": [],
   "source": [
    "def risk_neutral_q(r,s,su,sd):\n",
    "    \"\"\"Calculate the risk-neutral probability.\n",
    "    \n",
    "    Parameters\n",
    "    ----------\n",
    "        r float:\n",
    "            free risk rate.\n",
    "        \n",
    "        su float:\n",
    "            underlaying price given an up movements.\n",
    "       \n",
    "        sd float:\n",
    "            underlaying price given a down movements.\n",
    "            \n",
    "    Returns\n",
    "    -------\n",
    "        float:\n",
    "            risk-neutral probability.\n",
    "    \"\"\"\n",
    "    q = sy.solve(((1/(1+r)) * (su * q_1 + sd * (1 - q_1))) - s,q_1)[0]\n",
    "    return q"
   ]
  },
  {
   "cell_type": "code",
   "execution_count": 24,
   "id": "cd4760ed-2c9a-4361-bd56-24dda6624923",
   "metadata": {},
   "outputs": [
    {
     "name": "stdout",
     "output_type": "stream",
     "text": [
      "The probability Q up is: 0.466602067183461\n"
     ]
    }
   ],
   "source": [
    "r = 0.005/12\n",
    "q_1 = sy.Symbol('Q_1')\n",
    "s0 = S[0][0]\n",
    "s1_u = S[1][0]\n",
    "s1_d = S[1][1]\n",
    "Q_1 = risk_neutral_q(r,s0,s1_u,s1_d)\n",
    "\n",
    "print('The probability Q up is:', Q_1)"
   ]
  },
  {
   "cell_type": "code",
   "execution_count": 31,
   "id": "9708cf32-4851-46cd-8cb3-fe4ea6e02d10",
   "metadata": {},
   "outputs": [],
   "source": [
    "def pricing_call(S,T,K,Q):\n",
    "    \"\"\"Calculate the call price under the\n",
    "    risk-neutral probability.\n",
    "    \n",
    "    Parameters\n",
    "    ----------\n",
    "        S float:\n",
    "            underlaying price .\n",
    "        \n",
    "        T int:\n",
    "           time to maturity.\n",
    "       \n",
    "        K float:\n",
    "            Strike.\n",
    "            \n",
    "        Q float:\n",
    "            risk-neutral probability\n",
    "            \n",
    "    Returns\n",
    "    -------\n",
    "        Data Frame:\n",
    "            Data frame with all posible price of the call.\n",
    "    \"\"\"\n",
    "    C = pd.DataFrame(np.zeros((S.shape[0],S.shape[1])))\n",
    "    C.iloc[:, - 1] = S.iloc[:, - 1] - k\n",
    "    C[C < 0 ] = 0\n",
    "    for c in range(T):\n",
    "        for s in range(len(C.index)-1):\n",
    "            C.iloc[s,T - c -1] = C.iloc[s, T - c] * Q + C.iloc[s + 1 , T - c] * (1-Q)\n",
    "    return C\n"
   ]
  },
  {
   "cell_type": "code",
   "execution_count": 32,
   "id": "a1714e80-71fb-4f1d-aef7-05ecaa160ce5",
   "metadata": {},
   "outputs": [
    {
     "data": {
      "text/html": [
       "<div>\n",
       "<style scoped>\n",
       "    .dataframe tbody tr th:only-of-type {\n",
       "        vertical-align: middle;\n",
       "    }\n",
       "\n",
       "    .dataframe tbody tr th {\n",
       "        vertical-align: top;\n",
       "    }\n",
       "\n",
       "    .dataframe thead th {\n",
       "        text-align: right;\n",
       "    }\n",
       "</style>\n",
       "<table border=\"1\" class=\"dataframe\">\n",
       "  <thead>\n",
       "    <tr style=\"text-align: right;\">\n",
       "      <th></th>\n",
       "      <th>0</th>\n",
       "      <th>1</th>\n",
       "      <th>2</th>\n",
       "      <th>3</th>\n",
       "      <th>4</th>\n",
       "    </tr>\n",
       "  </thead>\n",
       "  <tbody>\n",
       "    <tr>\n",
       "      <th>0</th>\n",
       "      <td>5.27020959661279</td>\n",
       "      <td>9.42227260332842</td>\n",
       "      <td>16.1801156467013</td>\n",
       "      <td>26.0754348958333</td>\n",
       "      <td>37.450312</td>\n",
       "    </tr>\n",
       "    <tr>\n",
       "      <th>1</th>\n",
       "      <td>0.764339594091792</td>\n",
       "      <td>1.63809731642544</td>\n",
       "      <td>3.51069451173555</td>\n",
       "      <td>7.52395833333331</td>\n",
       "      <td>16.125000</td>\n",
       "    </tr>\n",
       "    <tr>\n",
       "      <th>2</th>\n",
       "      <td>0</td>\n",
       "      <td>0</td>\n",
       "      <td>0</td>\n",
       "      <td>0</td>\n",
       "      <td>0.000000</td>\n",
       "    </tr>\n",
       "    <tr>\n",
       "      <th>3</th>\n",
       "      <td>0</td>\n",
       "      <td>0</td>\n",
       "      <td>0</td>\n",
       "      <td>0</td>\n",
       "      <td>0.000000</td>\n",
       "    </tr>\n",
       "    <tr>\n",
       "      <th>4</th>\n",
       "      <td>0.0</td>\n",
       "      <td>0.0</td>\n",
       "      <td>0.0</td>\n",
       "      <td>0.0</td>\n",
       "      <td>0.000000</td>\n",
       "    </tr>\n",
       "  </tbody>\n",
       "</table>\n",
       "</div>"
      ],
      "text/plain": [
       "                   0                 1                 2                 3  \\\n",
       "0   5.27020959661279  9.42227260332842  16.1801156467013  26.0754348958333   \n",
       "1  0.764339594091792  1.63809731642544  3.51069451173555  7.52395833333331   \n",
       "2                  0                 0                 0                 0   \n",
       "3                  0                 0                 0                 0   \n",
       "4                0.0               0.0               0.0               0.0   \n",
       "\n",
       "           4  \n",
       "0  37.450312  \n",
       "1  16.125000  \n",
       "2   0.000000  \n",
       "3   0.000000  \n",
       "4   0.000000  "
      ]
     },
     "execution_count": 32,
     "metadata": {},
     "output_type": "execute_result"
    }
   ],
   "source": [
    "k = 50\n",
    "C = pricing_call(S,T,k,Q_1)\n",
    "C "
   ]
  },
  {
   "cell_type": "markdown",
   "id": "5bf4ce6d-fc99-4292-9038-f90d44201420",
   "metadata": {},
   "source": [
    " (c)  Calculate the arbitrage-free price  of the option at time $t_0$.\n"
   ]
  },
  {
   "cell_type": "code",
   "execution_count": 33,
   "id": "7b36614b-9d9a-4051-a3b9-0894811eb259",
   "metadata": {},
   "outputs": [
    {
     "name": "stdout",
     "output_type": "stream",
     "text": [
      "The price in t0 for the call is: 5.27020959661279\n"
     ]
    }
   ],
   "source": [
    "print('The price in t0 for the call is:', C[0][0])"
   ]
  },
  {
   "cell_type": "markdown",
   "id": "e4a5c280-a460-49ca-9083-9e0bd0f06cb9",
   "metadata": {},
   "source": [
    "5. You are given the following information concerning a stock denoted by $S_t$ \n",
    "\n",
    "+ Current value:\n",
    "\n",
    "$S_0$ = 102\n",
    "\n",
    "+ Annual volatility:\n",
    "\n",
    "$ \\sigma = 0.3 $\n",
    "\n",
    "+ Spot rate:\n",
    "\n",
    "$r = .05$ \n",
    "\n",
    "Which is known to be constant during the next 3 months. It is hoped that the dynamic behavior of $S_t$ can be approximated reasonably well by a binomial process if one assumes observation intervals of length 1 month. \n",
    "\n",
    "(a)  Consider a European call option written on $S_t$ , $k=120$ and an expiration of 3 months. Using the $S_t$ and the risk-free borrowing and lending $B_t$, construct a portfolio that replicates the option. \n",
    "\n",
    "\n",
    "$\\Delta = 1$\n",
    "\n",
    "$r = \\frac{0.05}{12}$\n",
    "\n",
    "$u = e^{\\sigma*\\sqrt{\\frac{\\Delta}{12}}}$"
   ]
  },
  {
   "cell_type": "code",
   "execution_count": 34,
   "id": "415e5bf4-800d-4adc-94ce-38ba91d00bb2",
   "metadata": {},
   "outputs": [],
   "source": [
    "Delta = 1\n",
    "r = 0.05/12\n",
    "u = np.exp(.30* np.sqrt(Delta/12))\n",
    "d = 1 /u\n",
    "S0 = 102\n",
    "T = 3"
   ]
  },
  {
   "cell_type": "code",
   "execution_count": 35,
   "id": "1f3b1bbc-ae53-48f2-b337-de647983fd01",
   "metadata": {},
   "outputs": [
    {
     "data": {
      "text/html": [
       "<div>\n",
       "<style scoped>\n",
       "    .dataframe tbody tr th:only-of-type {\n",
       "        vertical-align: middle;\n",
       "    }\n",
       "\n",
       "    .dataframe tbody tr th {\n",
       "        vertical-align: top;\n",
       "    }\n",
       "\n",
       "    .dataframe thead th {\n",
       "        text-align: right;\n",
       "    }\n",
       "</style>\n",
       "<table border=\"1\" class=\"dataframe\">\n",
       "  <thead>\n",
       "    <tr style=\"text-align: right;\">\n",
       "      <th></th>\n",
       "      <th>0</th>\n",
       "      <th>1</th>\n",
       "      <th>2</th>\n",
       "      <th>3</th>\n",
       "    </tr>\n",
       "  </thead>\n",
       "  <tbody>\n",
       "    <tr>\n",
       "      <th>0</th>\n",
       "      <td>102.0</td>\n",
       "      <td>111.227244</td>\n",
       "      <td>121.289214</td>\n",
       "      <td>132.261422</td>\n",
       "    </tr>\n",
       "    <tr>\n",
       "      <th>1</th>\n",
       "      <td>0.0</td>\n",
       "      <td>93.538234</td>\n",
       "      <td>102.000000</td>\n",
       "      <td>111.227244</td>\n",
       "    </tr>\n",
       "    <tr>\n",
       "      <th>2</th>\n",
       "      <td>0.0</td>\n",
       "      <td>0.000000</td>\n",
       "      <td>85.778443</td>\n",
       "      <td>93.538234</td>\n",
       "    </tr>\n",
       "    <tr>\n",
       "      <th>3</th>\n",
       "      <td>0.0</td>\n",
       "      <td>0.000000</td>\n",
       "      <td>0.000000</td>\n",
       "      <td>78.662393</td>\n",
       "    </tr>\n",
       "  </tbody>\n",
       "</table>\n",
       "</div>"
      ],
      "text/plain": [
       "       0           1           2           3\n",
       "0  102.0  111.227244  121.289214  132.261422\n",
       "1    0.0   93.538234  102.000000  111.227244\n",
       "2    0.0    0.000000   85.778443   93.538234\n",
       "3    0.0    0.000000    0.000000   78.662393"
      ]
     },
     "execution_count": 35,
     "metadata": {},
     "output_type": "execute_result"
    }
   ],
   "source": [
    "S =  binomial_tree(S0,u,d,T)\n",
    "S"
   ]
  },
  {
   "cell_type": "code",
   "execution_count": 36,
   "id": "51ca635c-4753-4f88-8ca4-404112fc96ed",
   "metadata": {},
   "outputs": [
    {
     "data": {
      "text/html": [
       "<div>\n",
       "<style scoped>\n",
       "    .dataframe tbody tr th:only-of-type {\n",
       "        vertical-align: middle;\n",
       "    }\n",
       "\n",
       "    .dataframe tbody tr th {\n",
       "        vertical-align: top;\n",
       "    }\n",
       "\n",
       "    .dataframe thead th {\n",
       "        text-align: right;\n",
       "    }\n",
       "</style>\n",
       "<table border=\"1\" class=\"dataframe\">\n",
       "  <thead>\n",
       "    <tr style=\"text-align: right;\">\n",
       "      <th></th>\n",
       "      <th>0</th>\n",
       "      <th>1</th>\n",
       "      <th>2</th>\n",
       "      <th>3</th>\n",
       "    </tr>\n",
       "  </thead>\n",
       "  <tbody>\n",
       "    <tr>\n",
       "      <th>0</th>\n",
       "      <td>1.55475326303857</td>\n",
       "      <td>3.09471931601050</td>\n",
       "      <td>6.16000485258407</td>\n",
       "      <td>12.261422</td>\n",
       "    </tr>\n",
       "    <tr>\n",
       "      <th>1</th>\n",
       "      <td>0</td>\n",
       "      <td>0</td>\n",
       "      <td>0</td>\n",
       "      <td>0.000000</td>\n",
       "    </tr>\n",
       "    <tr>\n",
       "      <th>2</th>\n",
       "      <td>0</td>\n",
       "      <td>0</td>\n",
       "      <td>0</td>\n",
       "      <td>0.000000</td>\n",
       "    </tr>\n",
       "    <tr>\n",
       "      <th>3</th>\n",
       "      <td>0.0</td>\n",
       "      <td>0.0</td>\n",
       "      <td>0.0</td>\n",
       "      <td>0.000000</td>\n",
       "    </tr>\n",
       "  </tbody>\n",
       "</table>\n",
       "</div>"
      ],
      "text/plain": [
       "                  0                 1                 2          3\n",
       "0  1.55475326303857  3.09471931601050  6.16000485258407  12.261422\n",
       "1                 0                 0                 0   0.000000\n",
       "2                 0                 0                 0   0.000000\n",
       "3               0.0               0.0               0.0   0.000000"
      ]
     },
     "execution_count": 36,
     "metadata": {},
     "output_type": "execute_result"
    }
   ],
   "source": [
    "Q = risk_neutral_q(r,S[0][0],S[1][0],S[1][1])\n",
    "k = 120\n",
    "C = pricing_call(S,T,k,Q)\n",
    "C "
   ]
  },
  {
   "cell_type": "markdown",
   "id": "ddf0e357-5ed3-44b4-8068-1618ee31d4eb",
   "metadata": {},
   "source": [
    "\n",
    "A portfolio replicating the option price must satisfy: \n",
    "\n",
    "In $t_0$:\n",
    "    \n",
    "$C_t = \\theta_t S_t + \\theta_t B_t$ \n",
    "\n",
    "and in $t_1$ if $S_t$ down:\n",
    "\n",
    "$0 = \\theta_{t+1} S_{t+1} + \\theta_{t+1} B_{t+1}$\n",
    "\n",
    "Where $\\theta$ is the position in the respective asset\n",
    "\n"
   ]
  },
  {
   "cell_type": "code",
   "execution_count": 37,
   "id": "93ba421d-d0f8-41c2-98e0-0f2ce002c276",
   "metadata": {},
   "outputs": [],
   "source": [
    "def hedge_position(C,S,S1,r):\n",
    "    X = (C - C * r)/(S + (S * r) - S1)\n",
    "    return X"
   ]
  },
  {
   "cell_type": "markdown",
   "id": "b06d79c6-e195-4f67-a3f9-b4e6f39a3e38",
   "metadata": {},
   "source": [
    "+ Portfolio in $t_0$"
   ]
  },
  {
   "cell_type": "code",
   "execution_count": 38,
   "id": "a46dc745-4c53-4ef8-969e-e637b14c0c42",
   "metadata": {},
   "outputs": [
    {
     "name": "stdout",
     "output_type": "stream",
     "text": [
      "Security position: 17.7707012173676\n",
      "Risk-free borrowing and lending: -16.2159479543290\n",
      "Portfolio value: 1.55475326303857\n",
      "Option value: 1.55475326303857\n",
      "Uncovered position: -6.66133814775094e-16\n"
     ]
    }
   ],
   "source": [
    "c0 = C.iloc[0,0]\n",
    "\n",
    "s0 = S.iloc[0,0]\n",
    "s1 = S.iloc[1,1]\n",
    "ps = hedge_position(c0,s0,s1,r)\n",
    "pb = c0 - (ps * s0)\n",
    "portfolio_value =  round(ps * s0 + pb,2)\n",
    "print('Security position:' , ps * s0)\n",
    "print('Risk-free borrowing and lending:' , pb)\n",
    "print('Portfolio value:',  ps * s0 + pb)\n",
    "print('Option value:' , c0)\n",
    "print('Uncovered position:', (ps * s0 + pb) - c0 )"
   ]
  },
  {
   "cell_type": "markdown",
   "id": "a2e0948d-25d0-440b-945c-c5b65a75591c",
   "metadata": {},
   "source": [
    "+ $t_1$ \n"
   ]
  },
  {
   "cell_type": "code",
   "execution_count": 39,
   "id": "30108d5e-d2c1-41e8-92ff-0935bb19f33f",
   "metadata": {},
   "outputs": [],
   "source": [
    "# Loan capitalized at free risk rate\n",
    "pb1 = pb * (1 + r)"
   ]
  },
  {
   "cell_type": "markdown",
   "id": "8c00589e-76c8-40c9-8fb0-f64da11b299c",
   "metadata": {},
   "source": [
    "If $S_{t+1}$ down"
   ]
  },
  {
   "cell_type": "code",
   "execution_count": 40,
   "id": "e206adad-a6d3-438b-84ce-d9cb8d3d3b9c",
   "metadata": {},
   "outputs": [
    {
     "name": "stdout",
     "output_type": "stream",
     "text": [
      "Security position: 16.2964706813307\n",
      "Risk-free borrowing and lending: -16.2835144041387\n",
      "Portfolio value: 0.01\n",
      "Option value: 0\n",
      "Uncovered position: 0.01\n"
     ]
    }
   ],
   "source": [
    "c1 = C.iloc[1,1]\n",
    "s1 = S.iloc[1,1]\n",
    "\n",
    "portfolio_value = round(ps * s1 + pb1,2)\n",
    "print('Security position:' , ps * s1)\n",
    "print('Risk-free borrowing and lending:' , pb1)\n",
    "print('Portfolio value:',  portfolio_value)\n",
    "print('Option value:' , c1)\n",
    "print('Uncovered position:', portfolio_value - c1) "
   ]
  },
  {
   "cell_type": "markdown",
   "id": "ecdec196-8c14-4bc5-b622-d48bc04a734d",
   "metadata": {},
   "source": [
    "If $S_{t+1}$ up"
   ]
  },
  {
   "cell_type": "code",
   "execution_count": 45,
   "id": "4ca41b76-8316-43c9-b2ec-a20b18ad27be",
   "metadata": {},
   "outputs": [
    {
     "name": "stdout",
     "output_type": "stream",
     "text": [
      "Security position: 19.3782953335245\n",
      "Risk-free borrowing and lending: -16.2835144041387\n",
      "Portfolio value: 3.09\n",
      "Option value: 3.09471931601050\n",
      "Uncovered position: -0.00487556601049910\n"
     ]
    }
   ],
   "source": [
    "c1 = C.iloc[0,1]\n",
    "s1 = S.iloc[0,1]\n",
    " \n",
    "portfolio_value = round(ps * s1 + pb1,2)\n",
    "print('Security position:' , ps * s1)\n",
    "print('Risk-free borrowing and lending:' , pb1)\n",
    "print('Portfolio value:',  portfolio_value)\n",
    "print('Option value:' , c1)\n",
    "print('Uncovered position:', portfolio_value - c1) "
   ]
  },
  {
   "cell_type": "markdown",
   "id": "6adbfa8f-a491-490f-81ea-c66bcf2651eb",
   "metadata": {},
   "source": [
    "+ Now we adjust the portfolio for the next period"
   ]
  },
  {
   "cell_type": "code",
   "execution_count": 46,
   "id": "cdcf5066-dc70-45c7-8563-3b544a8b712f",
   "metadata": {},
   "outputs": [
    {
     "name": "stdout",
     "output_type": "stream",
     "text": [
      "Security position: 35.3723858465859\n",
      "Risk-free borrowing and lending: -32.2776665305754\n",
      "Portfolio value: 3.09\n",
      "Option value: 3.09471931601050\n",
      "Uncovered position: -0.00487556601049910\n"
     ]
    }
   ],
   "source": [
    "c1 = C.iloc[0,1]\n",
    "\n",
    "s1 = S.iloc[0,1]\n",
    "s2 = S.iloc[1,2]\n",
    "ps = hedge_position(c1,s1,s2,r)\n",
    "pb1 = c1 - (ps * s1)\n",
    "portfolio_value = round(ps * s1 + pb1,2)\n",
    "print('Security position:' , ps * s1)\n",
    "print('Risk-free borrowing and lending:' , pb1)\n",
    "print('Portfolio value:',  portfolio_value)\n",
    "print('Option value:' , c1)\n",
    "print('Uncovered position:', portfolio_value - c1 )"
   ]
  },
  {
   "cell_type": "markdown",
   "id": "5ddbdf8a-fe09-485e-be15-7ff8fef7e735",
   "metadata": {},
   "source": [
    "+ $t_2$"
   ]
  },
  {
   "cell_type": "code",
   "execution_count": 47,
   "id": "8e1fab94-8b8a-4113-bf6f-6a8ef81d5ac7",
   "metadata": {},
   "outputs": [],
   "source": [
    "# Loan capitalized at free risk rate\n",
    "pb2 = pb1 * (1 + r)"
   ]
  },
  {
   "cell_type": "markdown",
   "id": "f72db491-3cdf-4207-a711-f0fdf38fe7d9",
   "metadata": {},
   "source": [
    "If $S_{t+1}$ down"
   ]
  },
  {
   "cell_type": "code",
   "execution_count": 48,
   "id": "3e061d46-a1f9-460e-a134-aaa95678aa54",
   "metadata": {},
   "outputs": [
    {
     "name": "stdout",
     "output_type": "stream",
     "text": [
      "Security position: 32.4379461354195\n",
      "Risk-free borrowing and lending: -32.4121568077861\n",
      "Portfolio value: 0.0257893276334187\n",
      "Option value: 0\n",
      "Uncovered position: 0.0257893276334187\n"
     ]
    }
   ],
   "source": [
    "c2 = C.iloc[1,2]\n",
    "s2 = S.iloc[1,2]\n",
    "\n",
    "portfolio_value = ps * s2 + pb2\n",
    "print('Security position:' , ps * s2)\n",
    "print('Risk-free borrowing and lending:' , pb2)\n",
    "print('Portfolio value:',  portfolio_value)\n",
    "print('Option value:' , c2)\n",
    "print('Uncovered position:', portfolio_value - c2) "
   ]
  },
  {
   "cell_type": "markdown",
   "id": "676ca6ec-479e-476f-bd7e-c0e53c9e4feb",
   "metadata": {},
   "source": [
    "If $S_{t+1}$ up"
   ]
  },
  {
   "cell_type": "code",
   "execution_count": 50,
   "id": "4968d951-c1a8-4055-bbb6-9c6425d2d0e6",
   "metadata": {},
   "outputs": [
    {
     "name": "stdout",
     "output_type": "stream",
     "text": [
      "Security position: 38.5722843011178\n",
      "Risk-free borrowing and lending: -32.4121568077861\n",
      "Portfolio value: 6.16012749333173\n",
      "Option value: 6.16000485258407\n",
      "Uncovered position: 0.000122640747659553\n"
     ]
    }
   ],
   "source": [
    "c2 = C.iloc[0,2]\n",
    "s2 = S.iloc[0,2]\n",
    "\n",
    "portfolio_value = ps * s2 + pb2\n",
    "print('Security position:' , ps * s2)\n",
    "print('Risk-free borrowing and lending:' , pb2)\n",
    "print('Portfolio value:',  portfolio_value)\n",
    "print('Option value:' , c2)\n",
    "print('Uncovered position:', portfolio_value - c2) "
   ]
  },
  {
   "cell_type": "markdown",
   "id": "26d3bc00-2c0c-46c1-bedf-cc5e8e7d1d25",
   "metadata": {},
   "source": [
    "+ Now we adjust the portfolio for the next period"
   ]
  },
  {
   "cell_type": "code",
   "execution_count": null,
   "id": "f05cf55c-5065-4925-8bd8-cdbe55f12659",
   "metadata": {},
   "outputs": [],
   "source": [
    "c2 = C.iloc[0,2]\n",
    "\n",
    "s2 = S.iloc[0,2]\n",
    "s3 = S.iloc[1,3]\n",
    "ps = hedge_position(c2,s2,s3,r)\n",
    "pb2 = c2 - (ps * s2)\n",
    "portfolio_value = ps * s2 + pb2\n",
    "print('Security position:' , ps * s2)\n",
    "print('Risk-free borrowing and lending:' , pb2)\n",
    "print('Portfolio value:',  portfolio_value)\n",
    "print('Option value:' , c2)\n",
    "print('Uncovered position:', portfolio_value - c2 )"
   ]
  }
 ],
 "metadata": {
  "kernelspec": {
   "display_name": "Python 3 (ipykernel)",
   "language": "python",
   "name": "python3"
  },
  "language_info": {
   "codemirror_mode": {
    "name": "ipython",
    "version": 3
   },
   "file_extension": ".py",
   "mimetype": "text/x-python",
   "name": "python",
   "nbconvert_exporter": "python",
   "pygments_lexer": "ipython3",
   "version": "3.9.7"
  }
 },
 "nbformat": 4,
 "nbformat_minor": 5
}
